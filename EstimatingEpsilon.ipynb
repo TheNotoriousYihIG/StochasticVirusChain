{
 "cells": [
  {
   "cell_type": "code",
   "execution_count": null,
   "metadata": {},
   "outputs": [],
   "source": [
    "using Pkg\n",
    "Pkg.activate(\".\")\n",
    "using QuadGK, Plots, Roots"
   ]
  },
  {
   "cell_type": "code",
   "execution_count": null,
   "metadata": {},
   "outputs": [],
   "source": [
    "# All parameter values are from the papers: Sauter et al. 1989, Sauter et al. 1992\n",
    "\n",
    "# In SI units\n",
    "# kB = 1.380649e-23 # J/K = m^2⋅kg/(s^2⋅K)\n",
    "# T = 297           # K\n",
    "# σ = 1e-10         # m\n",
    "# KD = 1.4-6.5e-3   # Molar = mol/m^3\n",
    "# r0 = σ*(2/(kB*T) * ( 3*ϵ + sqrt(9*ϵ^2-6*kB*T*ϵ) ))^(1/6)\n",
    "\n",
    "# [Protein] = Protein Concentration, I think. I am assuming that proteins and ligands are in equal concentration.\n",
    "# Sauter 1989, first row of table 1: [protein] = 33μM = 3.3e-8 mol/m^3 = 3.3e-35 mol/nm^3\n",
    "# So then [protein] = 1.9873064508e-11 N/nm^3 where N = Number of proteins\n",
    "# Therefore the effective volume occupied by a pair is V = 1/[protein] = 1.9873064508e11 nm^3\n",
    "# Note that when [protein] = KD, we should expect a probability of being bound = 1/2 (confirmed)\n",
    "\n",
    "# Convert to nm\n",
    "kB = 1.380649e-5               # nm^2⋅kg/(s^2⋅K)\n",
    "T = 297                        # K\n",
    "σ = 1.5e-1                     # nm\n",
    "KD = 2.8e-30 * 6.02214076e23   # N/nm^3\n",
    "ρ = 1.9873064508e-11           # N/nm^3\n",
    "V = 1.9873064508e11            # nm^3\n",
    "R = cbrt(3*V/(4*pi))           # nm\n",
    "println(\"Effective radius of space = $R nm\")\n",
    "\n",
    "VLJ(r,ϵ) = 4*ϵ*((σ/r)^12 - (σ/r)^6)\n",
    "ExpTerm(r,ϵ) = exp(-VLJ(r,ϵ)/(kB*T))\n",
    "f(r,ϵ) = r^2 * ExpTerm(r,ϵ)\n",
    "Bound(ϵ) = σ*(2/(kB*T) * ( 3*ϵ[1] + sqrt(9*ϵ[1]^2-6*kB*T*ϵ[1]) ))^(1/6)\n",
    "BoundDeriv(ϵ) = σ/6*(2/(kB*T))^(1/6) * ( 3*ϵ[1] + sqrt(9*ϵ[1]^2-6*kB*T*ϵ[1]) )^(-5/6) *\n",
    "                ( 3 + 1/2*(9*ϵ^2-kB*T*ϵ)^(-1/2) * (18*ϵ-kB*T) )\n",
    ";"
   ]
  },
  {
   "cell_type": "code",
   "execution_count": 4,
   "metadata": {},
   "outputs": [],
   "source": [
    "function BoltzIntegral(ϵ,a,b)\n",
    "    integral, error = quadgk(r -> f(r,ϵ), a, b, rtol=1e-8)\n",
    "    return integral, error\n",
    "end\n",
    "\n",
    "function ratio(ϵ,p)\n",
    "    r0 = Bound(ϵ[1])\n",
    "    int1, err1 = quadgk(r -> f(r,ϵ[1]), 0, r0, rtol=1e-8)\n",
    "    int2, err2 = quadgk(r -> f(r,ϵ[1]), 0, R, rtol=1e-8)\n",
    "    rat = int1/int2\n",
    "    return rat - 1/(1+KD*V)\n",
    "end\n",
    "\n",
    "function OptFunc(ϵ)\n",
    "    r0 = Bound(ϵ)\n",
    "    int1, err1 = quadgk(r -> f(r,ϵ), 0, r0, rtol=1e-8)\n",
    "    int2, err2 = quadgk(r -> f(r,ϵ), 0, R, rtol=1e-8)\n",
    "    return int2 - (1+KD*V)*int1\n",
    "end\n",
    "\n",
    "function OptFuncDeriv(ϵ)\n",
    "    r0 = Bound(ϵ)\n",
    "    IntInf, ErrInf = quadgk(r -> VLJ(r,ϵ)*f(r,ϵ), 0, r0, rtol=1e-8)\n",
    "    IntR0, ErrR0 = quadgk(r -> VLJ(r,ϵ)*f(r,ϵ), 0, 1e8, rtol=1e-8)\n",
    "    return -1/(ϵ*kB*T)*IntInf - (1+KD) * (1/r0^2*ExpTerm(r0,ϵ)*BoundDeriv(ϵ) - 1/(ϵ*kB*T)*IntR0)\n",
    "end\n",
    ";\n",
    "# func = OptimizationFunction(OptFunc, grad = OptFuncDeriv)\n",
    "# prob = OptimizationProblem(func, [1.0])# , lb=[2/3*kB*T], ub=[Inf])\n",
    "# sol = solve(prob, SimulatedAnnealing())"
   ]
  },
  {
   "cell_type": "code",
   "execution_count": null,
   "metadata": {},
   "outputs": [],
   "source": [
    "# Find the range in which the zero-point exists for the optimising function\n",
    "let\n",
    "    AbsFunc(ϵ) = abs(OptFunc(ϵ))\n",
    "    plot(range(0.05,0.18,length=100), AbsFunc, yaxis=:log, legend=:none)\n",
    "end"
   ]
  },
  {
   "cell_type": "code",
   "execution_count": null,
   "metadata": {},
   "outputs": [],
   "source": [
    "# Initial guess comes from figure in the previous cell\n",
    "# 0.07682985072677195\n",
    "ZeroPoint = find_zero(OptFunc, (0.01,1)) # (2/3*kB*T,R))\n",
    "println(\"ϵ = $ZeroPoint\")\n",
    "# Check the solution:\n",
    "let \n",
    "    r0 = Bound(ZeroPoint)\n",
    "    int1, err1 = quadgk(r -> f(r,ZeroPoint), 0, r0, rtol=1e-8)\n",
    "    int2, err2 = quadgk(r -> f(r,ZeroPoint), 0, R, rtol=1e-8)\n",
    "    Error = int1/int2 - 1/(1+KD*V)\n",
    "    println(\"Error in answer = $Error\")\n",
    "end"
   ]
  },
  {
   "cell_type": "code",
   "execution_count": null,
   "metadata": {},
   "outputs": [],
   "source": [
    "# Visualise the depth of the well from the minimum of the well\n",
    "let \n",
    "    r0 = Bound(ZeroPoint)\n",
    "    RPlot = append!( collect(range(σ,r0,length=100)) , collect(range(r0,R,length=400)) )\n",
    "    plot(RPlot, r -> VLJ(r,ZeroPoint)-2*kB*T*log(r),\n",
    "    xlabel=\"r\", ylabel=\"LJ Potential\",\n",
    "    ylims=(-ZeroPoint*1.4, 1),\n",
    "    xaxis=:log,\n",
    "    legend = :none)\n",
    "end"
   ]
  },
  {
   "cell_type": "code",
   "execution_count": null,
   "metadata": {},
   "outputs": [],
   "source": [
    "# Visualise the probability density from the maximum of the probability peak\n",
    "let \n",
    "    r0 = Bound(ZeroPoint)\n",
    "    RPlot = append!( collect(range(σ,r0,length=100)) , collect(range(r0,R,length=400)) )\n",
    "    K1 = 1/(quadgk(r -> f(r,ZeroPoint), 0, R, rtol=1e-8)[1])\n",
    "    ProbBound = quadgk(r -> K1*f(r,ZeroPoint), 0, r0, rtol=1e-8)[1]\n",
    "    println(\"Probability of being bound = $ProbBound\")\n",
    "\n",
    "    plot(RPlot, r -> K1*f(r,ZeroPoint), \n",
    "    legend=:none, \n",
    "    xlabel=\"r\", ylabel=\"Probability Density\",\n",
    "    xaxis=:log, yaxis=:log)\n",
    "end"
   ]
  },
  {
   "cell_type": "code",
   "execution_count": null,
   "metadata": {},
   "outputs": [],
   "source": []
  }
 ],
 "metadata": {
  "kernelspec": {
   "display_name": "Julia 1.7.1",
   "language": "julia",
   "name": "julia-1.7"
  },
  "language_info": {
   "file_extension": ".jl",
   "mimetype": "application/julia",
   "name": "julia",
   "version": "1.7.1"
  },
  "orig_nbformat": 4
 },
 "nbformat": 4,
 "nbformat_minor": 2
}
